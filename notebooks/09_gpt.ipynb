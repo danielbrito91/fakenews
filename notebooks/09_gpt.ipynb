{
 "cells": [
  {
   "cell_type": "code",
   "execution_count": 1,
   "metadata": {},
   "outputs": [
    {
     "name": "stdout",
     "output_type": "stream",
     "text": [
      "/Users/danieloliveiradebrito/Projetos/fakenews\n"
     ]
    },
    {
     "name": "stderr",
     "output_type": "stream",
     "text": [
      "/Users/danieloliveiradebrito/Projetos/fakenews/.venv/lib/python3.10/site-packages/IPython/core/magics/osm.py:417: UserWarning: This is now an optional IPython functionality, setting dhist requires you to install the `pickleshare` library.\n",
      "  self.shell.db['dhist'] = compress_dhist(dhist)[-100:]\n"
     ]
    }
   ],
   "source": [
    "%cd ..\n",
    "%load_ext autoreload\n",
    "%autoreload 2"
   ]
  },
  {
   "cell_type": "code",
   "execution_count": 2,
   "metadata": {},
   "outputs": [],
   "source": [
    "from openai import OpenAI\n",
    "from dotenv import load_dotenv\n",
    "import os\n",
    "\n",
    "_ = load_dotenv()\n",
    "openai = OpenAI(api_key=os.getenv(\"OPENAI_API_KEY\"))"
   ]
  },
  {
   "cell_type": "markdown",
   "metadata": {},
   "source": [
    "# Prompt"
   ]
  },
  {
   "cell_type": "code",
   "execution_count": 8,
   "metadata": {},
   "outputs": [],
   "source": [
    "system_prompt = '''You are an helpful AI assistant tasked with performing classification of potentially fake news articles in Brazilian Portuguese. Your goal is to determine whether the given news article is likely to be fake or true based on careful analysis of its content, style, and characteristics.'''"
   ]
  },
  {
   "cell_type": "markdown",
   "metadata": {},
   "source": [
    "## Zero shot"
   ]
  },
  {
   "cell_type": "code",
   "execution_count": 9,
   "metadata": {},
   "outputs": [],
   "source": [
    "'''Given the following message, predict its veracity. If it is more likely to be a real message, return 1; otherwise, return 0. Please refrain from providing ambiguous assessments such as undetermined: Detailed photos ofXiang Liu’s tendon surgery exposed. Stop complaints and please show sympathy and blessings!'''\n",
    "\n",
    "def get_prompt_zero_shot_classification(news_article: str, system_prompt: str) -> str:\n",
    "    user_prompt = f'''Here is the news article you need to analyze:\n",
    "\n",
    "<news_article>```{news_article}```</news_article>\n",
    "\n",
    "Return a JSON object with the following keys:\n",
    "- \"is_fake\": your <classification>. If <news_article> is likely to be fake, return 1. Otherwise, return 0.'''\n",
    "\n",
    "\n",
    "    return [{\"role\": \"system\", \"content\": system_prompt},\n",
    "            {\"role\": \"user\", \"content\": user_prompt}]\n",
    "\n"
   ]
  },
  {
   "cell_type": "markdown",
   "metadata": {},
   "source": [
    "## CoT"
   ]
  },
  {
   "cell_type": "code",
   "execution_count": 7,
   "metadata": {},
   "outputs": [],
   "source": [
    "'''Given the following message, predict its veracity. If it is more likely to be a real message, return 1; otherwise, return 0. Please refrain from providing ambiguous assessments such as undetermined: Detailed photos ofXiang Liu’s tendon surgery exposed. Stop complaints and please show sympathy and blessings!'''\n",
    "\n",
    "\n",
    "news_article = ''\n",
    "\n",
    "user_prompt = f'''Here is the news article you need to analyze:\n",
    "\n",
    "<news_article>```{news_article}```</news_article>\n",
    "\n",
    "Lets think it step-by-step if the <news_article> is likely to be fake within the provided <sketchpad> following the aspects below:\n",
    "\n",
    "1. Read the article carefully\n",
    "2. Identify the main elements of the article\n",
    "3. Check if there are any signs of fake news, such as:\n",
    "    - Misleading information\n",
    "    - Sensationalist language\n",
    "    - Lack of credible sources\n",
    "    - Biased viewpoints\n",
    "    - Outdated or recycled content\n",
    "4. Compare the article with other reputable sources\n",
    "5. Consider the context and relevance of the news, if the news is plausible.\n",
    "\n",
    "Provide your classification and reasoning based on the <sketchpad>.\n",
    "\n",
    "Return a JSON object with the following keys:\n",
    "- \"sketchpad\": your analysis of the news article based on the provided aspects.\n",
    "- \"is_fake\": your <classification>. If <news_article> is likely to be fake, return 1. Otherwise, return 0.'''"
   ]
  },
  {
   "cell_type": "markdown",
   "metadata": {},
   "source": [
    "## Few shot"
   ]
  },
  {
   "cell_type": "markdown",
   "metadata": {},
   "source": []
  },
  {
   "cell_type": "code",
   "execution_count": null,
   "metadata": {},
   "outputs": [],
   "source": [
    "'''Given the following message, predict its veracity. If it is more likely to be a real message, return 1; otherwise, return 0. Please refrain from providing ambiguous assessments such as undetermined: Detailed photos ofXiang Liu’s tendon surgery exposed. Stop complaints and please show sympathy and blessings!'''\n",
    "\n",
    "system_prompt = '''You are an helpful AI assistant tasked with performing classification of potentially fake news articles in Brazilian Portuguese. Your goal is to determine whether the given news article is likely to be fake or true based on careful analysis of its content, style, and characteristics.'''\n",
    "\n",
    "news_article = ''\n",
    "example = ''\n",
    "\n",
    "user_prompt = f'''First, I will provide some examples of fake news and real news in Brazilian Portuguese.\n",
    "\n",
    "- article: ```{example}```\n",
    "- classification: 1 (fake)\n",
    "\n",
    "- article: ```{example}```\n",
    "- classification: 0 (real)\n",
    "\n",
    "Here is the news article you need to analyze:\n",
    "\n",
    "<news_article>\n",
    "{news_article}\n",
    "</news_article>\n",
    "\n",
    "Lets think it step-by-step if the <news_article> is likely to be fake within the provided <sketchpad> following the aspects below:\n",
    "\n",
    "1. Read the article carefully\n",
    "2. Identify the main elements of the article\n",
    "3. Check if there are any signs of fake news, such as:\n",
    "    - Misleading information\n",
    "    - Sensationalist language\n",
    "    - Lack of credible sources\n",
    "    - Biased viewpoints\n",
    "    - Outdated or recycled content\n",
    "4. Compare the article with other reputable sources\n",
    "5. Consider the context and relevance of the news, if the news is plausible.\n",
    "\n",
    "Provide your classification and reasoning based on the <sketchpad>.\n",
    "\n",
    "Return a JSON object with the following keys:\n",
    "- \"sketchpad\": your analysis of the news article based on the provided aspects.\n",
    "- \"is_fake\": your <classification>. If <news_article> is likely to be fake, return 1. Otherwise, return 0.'''"
   ]
  },
  {
   "cell_type": "markdown",
   "metadata": {},
   "source": [
    "# Datasets"
   ]
  },
  {
   "cell_type": "markdown",
   "metadata": {},
   "source": [
    "## Fake Recogna"
   ]
  },
  {
   "cell_type": "code",
   "execution_count": 3,
   "metadata": {},
   "outputs": [],
   "source": [
    "from sklearn.model_selection import train_test_split\n",
    "\n",
    "from fakenews.read_data import read_fake_recogna\n",
    "\n",
    "df = read_fake_recogna().to_pandas()\n",
    "\n",
    "train_full, test = train_test_split(df,\n",
    "                              test_size=0.2,\n",
    "                              random_state=42,\n",
    "                              shuffle=True,\n",
    "                              stratify=df[\"label\"]\n",
    "                            )\n",
    "\n",
    "train, val = train_test_split(train_full,\n",
    "                              test_size=0.2,\n",
    "                              random_state=42,\n",
    "                              shuffle=True,\n",
    "                              stratify=train_full[\"label\"])"
   ]
  },
  {
   "cell_type": "markdown",
   "metadata": {},
   "source": [
    "### CoT"
   ]
  },
  {
   "cell_type": "code",
   "execution_count": 35,
   "metadata": {},
   "outputs": [],
   "source": [
    "i = 0\n",
    "\n",
    "example = test['text'].values[i]\n",
    "label = test['label'].values[i]"
   ]
  },
  {
   "cell_type": "code",
   "execution_count": 36,
   "metadata": {},
   "outputs": [],
   "source": [
    "from fakenews.prompts import get_cot_prompt, get_system_prompt\n",
    "\n",
    "\n",
    "response = openai.chat.completions.create(\n",
    "        model=\"gpt-3.5-turbo\",\n",
    "        temperature=0,\n",
    "        response_format={\"type\": \"json_object\"},\n",
    "        messages=[{'role': 'system', 'content': get_system_prompt()},\n",
    "    {'role': 'user', 'content': get_cot_prompt(news_article=example)}],\n",
    "        )"
   ]
  },
  {
   "cell_type": "code",
   "execution_count": 37,
   "metadata": {},
   "outputs": [],
   "source": [
    "import json\n",
    "\n",
    "resposta_0 = (json.loads(response.model_dump()['choices'][0]['message']['content']))"
   ]
  },
  {
   "cell_type": "code",
   "execution_count": 27,
   "metadata": {},
   "outputs": [],
   "source": [
    "respostas = []\n",
    "\n",
    "for i in range(1, 10):\n",
    "    example = test['text'].values[i]\n",
    "    label = test['label'].values[i]\n",
    "    response = openai.chat.completions.create(\n",
    "        model=\"gpt-3.5-turbo\",\n",
    "        temperature=0,\n",
    "        response_format={\"type\": \"json_object\"},\n",
    "        messages=[{'role': 'system', 'content': get_system_prompt()},\n",
    "    {'role': 'user', 'content': get_cot_prompt(news_article=example)}],\n",
    "        )\n",
    "    respostas.append(json.loads(response.model_dump()['choices'][0]['message']['content']))"
   ]
  },
  {
   "cell_type": "code",
   "execution_count": 40,
   "metadata": {},
   "outputs": [],
   "source": [
    "import pandas as pd\n",
    "\n",
    "sketchpads = []\n",
    "clfs = []\n",
    "\n",
    "sketchpads.append(resposta_0['sketchpad'])\n",
    "clfs.append(resposta_0['is_fake'])\n",
    "\n",
    "for resposta in respostas:\n",
    "    sketchpads.append(resposta['sketchpad'])\n",
    "    clfs.append(resposta['is_fake'])\n",
    "\n",
    "first_10_cot = pd.DataFrame({\"sketchpad\": sketchpads, \"is_fake\": clfs})"
   ]
  },
  {
   "cell_type": "code",
   "execution_count": 47,
   "metadata": {},
   "outputs": [],
   "source": [
    "pd.concat([test.iloc[:10].reset_index(drop=True),\n",
    "           first_10_cot], axis=1).to_csv('reports/llms_evals/first_10_cot.csv', index=False)"
   ]
  },
  {
   "cell_type": "markdown",
   "metadata": {},
   "source": [
    "### CoT + Few Shot"
   ]
  },
  {
   "cell_type": "code",
   "execution_count": 78,
   "metadata": {},
   "outputs": [],
   "source": [
    "from fakenews.prompts import get_few_shot_prompt_with_cot\n",
    "\n",
    "fakes = train.query(\"label == 1\")['text'].sample(3, random_state=42).values\n",
    "trues = train.query(\"label == 0\")['text'].sample(3, random_state=42).values"
   ]
  },
  {
   "cell_type": "code",
   "execution_count": 79,
   "metadata": {},
   "outputs": [],
   "source": [
    "i = 0\n",
    "\n",
    "example = test['text'].values[i]\n",
    "label = test['label'].values[i]\n",
    "\n",
    "user = (get_few_shot_prompt_with_cot(example, fakes, trues))\n",
    "\n",
    "\n",
    "response = openai.chat.completions.create(\n",
    "        model=\"gpt-3.5-turbo\",\n",
    "        temperature=0,\n",
    "        response_format={\"type\": \"json_object\"},\n",
    "        messages=[{'role': 'system', 'content': get_system_prompt()},\n",
    "    {'role': 'user', 'content': user}],\n",
    "        )\n",
    "resposta_0 = (json.loads(response.model_dump()['choices'][0]['message']['content']))"
   ]
  },
  {
   "cell_type": "code",
   "execution_count": 80,
   "metadata": {},
   "outputs": [
    {
     "data": {
      "text/plain": [
       "{'sketchpad': 'O artigo em questão apresenta uma frase atribuída ao presidente Jair Bolsonaro em que ele supostamente pergunta a crianças de um orfanato sobre o que comem no Dia dos Pais. A linguagem utilizada é sensacionalista e a frase parece ter sido criada para gerar polêmica. Não há menção a fontes confiáveis ou detalhes que possam comprovar a veracidade do ocorrido. Além disso, a situação descrita parece improvável e fora do contexto usual de uma visita presidencial a um orfanato. Portanto, há indícios de que essa notícia possa ser falsa.',\n",
       " 'is_fake': 1}"
      ]
     },
     "execution_count": 80,
     "metadata": {},
     "output_type": "execute_result"
    }
   ],
   "source": [
    "resposta_0"
   ]
  },
  {
   "cell_type": "code",
   "execution_count": 82,
   "metadata": {},
   "outputs": [],
   "source": [
    "respostas = []\n",
    "\n",
    "for i in range(1, 10):\n",
    "    example = test['text'].values[i]\n",
    "    label = test['label'].values[i]\n",
    "    user = (get_few_shot_prompt_with_cot(example, fakes, trues))\n",
    "    \n",
    "\n",
    "    response = openai.chat.completions.create(\n",
    "        model=\"gpt-3.5-turbo\",\n",
    "        temperature=0,\n",
    "        response_format={\"type\": \"json_object\"},\n",
    "        messages=[{'role': 'system', 'content': get_system_prompt()},\n",
    "    {'role': 'user', 'content': user}],\n",
    "        )\n",
    "    respostas.append(json.loads(response.model_dump()['choices'][0]['message']['content']))"
   ]
  },
  {
   "cell_type": "code",
   "execution_count": 83,
   "metadata": {},
   "outputs": [],
   "source": [
    "sketchpads = []\n",
    "clfs = []\n",
    "\n",
    "sketchpads.append(resposta_0['sketchpad'])\n",
    "clfs.append(resposta_0['is_fake'])\n",
    "\n",
    "for resposta in respostas:\n",
    "    sketchpads.append(resposta['sketchpad'])\n",
    "    clfs.append(resposta['is_fake'])\n",
    "\n",
    "first_10_cot_few_shot = pd.DataFrame({\"sketchpad\": sketchpads, \"is_fake\": clfs})"
   ]
  },
  {
   "cell_type": "code",
   "execution_count": 86,
   "metadata": {},
   "outputs": [],
   "source": [
    "pd.concat([test.iloc[:10].reset_index(drop=True),\n",
    "           first_10_cot_few_shot], axis=1).to_csv('reports/llms_evals/first_10_cot_few_shot.csv', index=False)"
   ]
  },
  {
   "cell_type": "markdown",
   "metadata": {},
   "source": [
    "### Few Shot"
   ]
  },
  {
   "cell_type": "code",
   "execution_count": 87,
   "metadata": {},
   "outputs": [],
   "source": [
    "from fakenews.prompts import get_few_shot_prompt\n",
    "\n",
    "fakes = train.query(\"label == 1\")['text'].sample(3, random_state=42).values\n",
    "trues = train.query(\"label == 0\")['text'].sample(3, random_state=42).values"
   ]
  },
  {
   "cell_type": "code",
   "execution_count": 88,
   "metadata": {},
   "outputs": [],
   "source": [
    "i = 0\n",
    "\n",
    "example = test['text'].values[i]\n",
    "label = test['label'].values[i]\n",
    "\n",
    "user = (get_few_shot_prompt(example, fakes, trues))\n",
    "\n",
    "\n",
    "response = openai.chat.completions.create(\n",
    "        model=\"gpt-3.5-turbo\",\n",
    "        temperature=0,\n",
    "        response_format={\"type\": \"json_object\"},\n",
    "        messages=[\n",
    "            {'role': 'system', 'content': get_system_prompt()},\n",
    "            {'role': 'user', 'content': user}],\n",
    "        )\n",
    "resposta_0 = (json.loads(response.model_dump()['choices'][0]['message']['content']))"
   ]
  },
  {
   "cell_type": "code",
   "execution_count": 91,
   "metadata": {},
   "outputs": [],
   "source": [
    "respostas = []\n",
    "\n",
    "for i in range(1, 10):\n",
    "    example = test['text'].values[i]\n",
    "    label = test['label'].values[i]\n",
    "    user = (get_few_shot_prompt(example, fakes, trues))\n",
    "    \n",
    "\n",
    "    response = openai.chat.completions.create(\n",
    "        model=\"gpt-3.5-turbo\",\n",
    "        temperature=0,\n",
    "        response_format={\"type\": \"json_object\"},\n",
    "        messages=[\n",
    "            {'role': 'system', 'content': get_system_prompt()},\n",
    "            {'role': 'user', 'content': user}],\n",
    "        )\n",
    "    respostas.append(json.loads(response.model_dump()['choices'][0]['message']['content']))"
   ]
  },
  {
   "cell_type": "code",
   "execution_count": 94,
   "metadata": {},
   "outputs": [],
   "source": [
    "clfs = []\n",
    "\n",
    "clfs.append(resposta_0['is_fake'])\n",
    "\n",
    "for resposta in respostas:\n",
    "    clfs.append(resposta['is_fake'])\n",
    "\n",
    "first_10_few_shot = pd.DataFrame({\"is_fake\": clfs})"
   ]
  },
  {
   "cell_type": "code",
   "execution_count": 96,
   "metadata": {},
   "outputs": [],
   "source": [
    "pd.concat([test.iloc[:10].reset_index(drop=True),\n",
    "           first_10_few_shot], axis=1).to_csv('reports/llms_evals/first_10_few_shot.csv', index=False)"
   ]
  },
  {
   "cell_type": "code",
   "execution_count": 103,
   "metadata": {},
   "outputs": [
    {
     "data": {
      "text/html": [
       "<div>\n",
       "<style scoped>\n",
       "    .dataframe tbody tr th:only-of-type {\n",
       "        vertical-align: middle;\n",
       "    }\n",
       "\n",
       "    .dataframe tbody tr th {\n",
       "        vertical-align: top;\n",
       "    }\n",
       "\n",
       "    .dataframe thead th {\n",
       "        text-align: right;\n",
       "    }\n",
       "</style>\n",
       "<table border=\"1\" class=\"dataframe\">\n",
       "  <thead>\n",
       "    <tr style=\"text-align: right;\">\n",
       "      <th></th>\n",
       "      <th>text</th>\n",
       "      <th>label</th>\n",
       "      <th>is_fake_few_shot</th>\n",
       "      <th>sketchpad</th>\n",
       "      <th>is_fake_cot</th>\n",
       "      <th>is_fake_cot_few_shot</th>\n",
       "    </tr>\n",
       "  </thead>\n",
       "  <tbody>\n",
       "    <tr>\n",
       "      <th>0</th>\n",
       "      <td>“ série votar o bonoro pra bolsonaro visitar o...</td>\n",
       "      <td>0</td>\n",
       "      <td>1</td>\n",
       "      <td>The news article provided seems to be highly s...</td>\n",
       "      <td>1</td>\n",
       "      <td>1</td>\n",
       "    </tr>\n",
       "    <tr>\n",
       "      <th>1</th>\n",
       "      <td>registrar caso e óbito am pa ro rr al ba ce ma...</td>\n",
       "      <td>1</td>\n",
       "      <td>0</td>\n",
       "      <td>The news article appears to be a jumble of wor...</td>\n",
       "      <td>0</td>\n",
       "      <td>0</td>\n",
       "    </tr>\n",
       "    <tr>\n",
       "      <th>2</th>\n",
       "      <td>“ exigir o contratar patrocínio banco brasil o...</td>\n",
       "      <td>0</td>\n",
       "      <td>1</td>\n",
       "      <td>The news article contains a mix of political s...</td>\n",
       "      <td>1</td>\n",
       "      <td>1</td>\n",
       "    </tr>\n",
       "    <tr>\n",
       "      <th>3</th>\n",
       "      <td>o ministrar stf supremo tribunal federal edson...</td>\n",
       "      <td>1</td>\n",
       "      <td>0</td>\n",
       "      <td>The news article appears to be reporting on th...</td>\n",
       "      <td>0</td>\n",
       "      <td>0</td>\n",
       "    </tr>\n",
       "    <tr>\n",
       "      <th>4</th>\n",
       "      <td>idoso ano identificar milton oliveira santo en...</td>\n",
       "      <td>1</td>\n",
       "      <td>0</td>\n",
       "      <td>The news article describes the unfortunate inc...</td>\n",
       "      <td>0</td>\n",
       "      <td>0</td>\n",
       "    </tr>\n",
       "    <tr>\n",
       "      <th>5</th>\n",
       "      <td>caso covid-19 surgir brasil ligar o o vírus ci...</td>\n",
       "      <td>1</td>\n",
       "      <td>0</td>\n",
       "      <td>The news article discusses the spread of COVID...</td>\n",
       "      <td>0</td>\n",
       "      <td>0</td>\n",
       "    </tr>\n",
       "    <tr>\n",
       "      <th>6</th>\n",
       "      <td>o nacional justiçar cnj informar n segunda-fei...</td>\n",
       "      <td>1</td>\n",
       "      <td>0</td>\n",
       "      <td>The news article appears to be discussing a pr...</td>\n",
       "      <td>0</td>\n",
       "      <td>0</td>\n",
       "    </tr>\n",
       "    <tr>\n",
       "      <th>7</th>\n",
       "      <td>unir registrar recordar morte diário covid-19 ...</td>\n",
       "      <td>1</td>\n",
       "      <td>0</td>\n",
       "      <td>The news article seems to be reporting on the ...</td>\n",
       "      <td>0</td>\n",
       "      <td>0</td>\n",
       "    </tr>\n",
       "    <tr>\n",
       "      <th>8</th>\n",
       "      <td>o discussão o orçamentar união chegar o o cong...</td>\n",
       "      <td>1</td>\n",
       "      <td>0</td>\n",
       "      <td>The news article discusses budgetary issues in...</td>\n",
       "      <td>0</td>\n",
       "      <td>0</td>\n",
       "    </tr>\n",
       "    <tr>\n",
       "      <th>9</th>\n",
       "      <td>paulo reuters o instituto butantan enviar segu...</td>\n",
       "      <td>1</td>\n",
       "      <td>0</td>\n",
       "      <td>The news article discusses the Instituto Butan...</td>\n",
       "      <td>0</td>\n",
       "      <td>0</td>\n",
       "    </tr>\n",
       "  </tbody>\n",
       "</table>\n",
       "</div>"
      ],
      "text/plain": [
       "                                                text  label  is_fake_few_shot  \\\n",
       "0  “ série votar o bonoro pra bolsonaro visitar o...      0                 1   \n",
       "1  registrar caso e óbito am pa ro rr al ba ce ma...      1                 0   \n",
       "2  “ exigir o contratar patrocínio banco brasil o...      0                 1   \n",
       "3  o ministrar stf supremo tribunal federal edson...      1                 0   \n",
       "4  idoso ano identificar milton oliveira santo en...      1                 0   \n",
       "5  caso covid-19 surgir brasil ligar o o vírus ci...      1                 0   \n",
       "6  o nacional justiçar cnj informar n segunda-fei...      1                 0   \n",
       "7  unir registrar recordar morte diário covid-19 ...      1                 0   \n",
       "8  o discussão o orçamentar união chegar o o cong...      1                 0   \n",
       "9  paulo reuters o instituto butantan enviar segu...      1                 0   \n",
       "\n",
       "                                           sketchpad  is_fake_cot  \\\n",
       "0  The news article provided seems to be highly s...            1   \n",
       "1  The news article appears to be a jumble of wor...            0   \n",
       "2  The news article contains a mix of political s...            1   \n",
       "3  The news article appears to be reporting on th...            0   \n",
       "4  The news article describes the unfortunate inc...            0   \n",
       "5  The news article discusses the spread of COVID...            0   \n",
       "6  The news article appears to be discussing a pr...            0   \n",
       "7  The news article seems to be reporting on the ...            0   \n",
       "8  The news article discusses budgetary issues in...            0   \n",
       "9  The news article discusses the Instituto Butan...            0   \n",
       "\n",
       "   is_fake_cot_few_shot  \n",
       "0                     1  \n",
       "1                     0  \n",
       "2                     1  \n",
       "3                     0  \n",
       "4                     0  \n",
       "5                     0  \n",
       "6                     0  \n",
       "7                     0  \n",
       "8                     0  \n",
       "9                     0  "
      ]
     },
     "execution_count": 103,
     "metadata": {},
     "output_type": "execute_result"
    }
   ],
   "source": [
    "pd.concat([\n",
    "    pd.read_csv('reports/llms_evals/first_10_few_shot.csv').rename(columns={\"is_fake\": \"is_fake_few_shot\"}),#[['is_fake_few_shot']],\n",
    "    pd.read_csv('reports/llms_evals/first_10_cot.csv').rename(columns={\"is_fake\": \"is_fake_cot\"})[['sketchpad', 'is_fake_cot']],\n",
    "    pd.read_csv('reports/llms_evals/first_10_cot_few_shot.csv').rename(columns={\"is_fake\": \"is_fake_cot_few_shot\"})[['is_fake_cot_few_shot']]],\n",
    "    axis=1)"
   ]
  }
 ],
 "metadata": {
  "kernelspec": {
   "display_name": ".venv",
   "language": "python",
   "name": "python3"
  },
  "language_info": {
   "codemirror_mode": {
    "name": "ipython",
    "version": 3
   },
   "file_extension": ".py",
   "mimetype": "text/x-python",
   "name": "python",
   "nbconvert_exporter": "python",
   "pygments_lexer": "ipython3",
   "version": "3.10.12"
  }
 },
 "nbformat": 4,
 "nbformat_minor": 2
}

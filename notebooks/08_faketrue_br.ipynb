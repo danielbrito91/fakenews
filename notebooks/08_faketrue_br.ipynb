{
 "cells": [
  {
   "cell_type": "code",
   "execution_count": 1,
   "metadata": {},
   "outputs": [
    {
     "name": "stdout",
     "output_type": "stream",
     "text": [
      "/Users/danieloliveiradebrito/Projetos/fakenews\n"
     ]
    },
    {
     "name": "stderr",
     "output_type": "stream",
     "text": [
      "/Users/danieloliveiradebrito/Projetos/fakenews/.venv/lib/python3.10/site-packages/IPython/core/magics/osm.py:417: UserWarning: This is now an optional IPython functionality, setting dhist requires you to install the `pickleshare` library.\n",
      "  self.shell.db['dhist'] = compress_dhist(dhist)[-100:]\n"
     ]
    }
   ],
   "source": [
    "%cd ..\n",
    "%load_ext autoreload\n",
    "%autoreload 2"
   ]
  },
  {
   "cell_type": "markdown",
   "metadata": {},
   "source": [
    "# Load dataset"
   ]
  },
  {
   "cell_type": "code",
   "execution_count": 66,
   "metadata": {},
   "outputs": [
    {
     "name": "stderr",
     "output_type": "stream",
     "text": [
      "/Users/danieloliveiradebrito/Projetos/fakenews/.venv/lib/python3.10/site-packages/tqdm/auto.py:21: TqdmWarning: IProgress not found. Please update jupyter and ipywidgets. See https://ipywidgets.readthedocs.io/en/stable/user_install.html\n",
      "  from .autonotebook import tqdm as notebook_tqdm\n"
     ]
    }
   ],
   "source": [
    "from fakenews.read_data import read_fake_true_br\n",
    "from sklearn.model_selection import train_test_split\n",
    "import datasets\n",
    "import polars as pl\n",
    "\n",
    "df = read_fake_true_br()\n",
    "\n",
    "train_full, test = train_test_split(df.to_pandas(),\n",
    "                              test_size=0.2,\n",
    "                              random_state=42,\n",
    "                              shuffle=True,\n",
    "                              stratify=df[\"label\"]\n",
    "                            )\n",
    "\n",
    "train, val = train_test_split(train_full,\n",
    "                              test_size=0.2,\n",
    "                              random_state=42,\n",
    "                              shuffle=True,\n",
    "                              stratify=train_full[\"label\"]\n",
    "                            )\n",
    "\n",
    "ds = datasets.DatasetDict()\n",
    "ds[\"train\"] = datasets.Dataset.from_pandas(train.reset_index(drop=True))\n",
    "ds[\"test\"] = datasets.Dataset.from_pandas(test.reset_index(drop=True))\n",
    "ds[\"validation\"] = datasets.Dataset.from_pandas(val.reset_index(drop=True))\n"
   ]
  },
  {
   "cell_type": "markdown",
   "metadata": {},
   "source": [
    "# BERT"
   ]
  },
  {
   "cell_type": "code",
   "execution_count": 67,
   "metadata": {},
   "outputs": [
    {
     "name": "stderr",
     "output_type": "stream",
     "text": [
      "Some weights of BertForSequenceClassification were not initialized from the model checkpoint at adalbertojunior/distilbert-portuguese-cased and are newly initialized: ['classifier.bias', 'classifier.weight']\n",
      "You should probably TRAIN this model on a down-stream task to be able to use it for predictions and inference.\n"
     ]
    }
   ],
   "source": [
    "from transformers import AutoTokenizer, AutoModelForSequenceClassification\n",
    "\n",
    "model = AutoModelForSequenceClassification.from_pretrained(\"adalbertojunior/distilbert-portuguese-cased\")\n",
    "tokenizer = AutoTokenizer.from_pretrained(\"adalbertojunior/distilbert-portuguese-cased\", do_lower_case=True)"
   ]
  },
  {
   "cell_type": "code",
   "execution_count": 68,
   "metadata": {},
   "outputs": [
    {
     "name": "stderr",
     "output_type": "stream",
     "text": [
      "/Users/danieloliveiradebrito/Projetos/fakenews/.venv/lib/python3.10/site-packages/bitsandbytes/cextension.py:34: UserWarning: The installed version of bitsandbytes was compiled without GPU support. 8-bit optimizers, 8-bit multiplication, and GPU quantization are unavailable.\n",
      "  warn(\"The installed version of bitsandbytes was compiled without GPU support. \"\n"
     ]
    },
    {
     "name": "stdout",
     "output_type": "stream",
     "text": [
      "'NoneType' object has no attribute 'cadam32bit_grad_fp32'\n"
     ]
    },
    {
     "name": "stderr",
     "output_type": "stream",
     "text": [
      "Some weights of BertForSequenceClassification were not initialized from the model checkpoint at adalbertojunior/distilbert-portuguese-cased and are newly initialized: ['classifier.bias', 'classifier.weight']\n",
      "You should probably TRAIN this model on a down-stream task to be able to use it for predictions and inference.\n",
      "Map: 100%|██████████| 2292/2292 [00:01<00:00, 1474.29 examples/s]\n",
      "Map: 100%|██████████| 717/717 [00:00<00:00, 1537.34 examples/s]\n",
      "Map: 100%|██████████| 573/573 [00:00<00:00, 1548.50 examples/s]\n"
     ]
    }
   ],
   "source": [
    "from fakenews.train import FakeNewsTrainer\n",
    "\n",
    "faketrue_trainer = FakeNewsTrainer(ds)\n",
    "tokenized_ds = faketrue_trainer.tokenize_ds()\n",
    "trainer = faketrue_trainer.get_trainer(tokenized_ds)"
   ]
  },
  {
   "cell_type": "code",
   "execution_count": 69,
   "metadata": {},
   "outputs": [
    {
     "name": "stderr",
     "output_type": "stream",
     "text": [
      "                                                 \n",
      " 33%|███▎      | 287/861 [02:57<09:05,  1.05it/s]"
     ]
    },
    {
     "name": "stdout",
     "output_type": "stream",
     "text": [
      "{'eval_loss': 0.22044651210308075, 'eval_accuracy': 0.9528795811518325, 'eval_clf_report': {'0': {'precision': 0.9923954372623575, 'recall': 0.9125874125874126, 'f1-score': 0.9508196721311475, 'support': 286.0}, '1': {'precision': 0.9193548387096774, 'recall': 0.9930313588850174, 'f1-score': 0.9547738693467337, 'support': 287.0}, 'accuracy': 0.9528795811518325, 'macro avg': {'precision': 0.9558751379860174, 'recall': 0.952809385736215, 'f1-score': 0.9527967707389406, 'support': 573.0}, 'weighted avg': {'precision': 0.9558114027342263, 'recall': 0.9528795811518325, 'f1-score': 0.9528002211728109, 'support': 573.0}}, 'eval_runtime': 11.7604, 'eval_samples_per_second': 48.723, 'eval_steps_per_second': 6.122, 'epoch': 1.0}\n"
     ]
    },
    {
     "name": "stderr",
     "output_type": "stream",
     "text": [
      " 58%|█████▊    | 500/861 [05:00<03:26,  1.75it/s]"
     ]
    },
    {
     "name": "stdout",
     "output_type": "stream",
     "text": [
      "{'loss': 0.2067, 'grad_norm': 6.306834697723389, 'learning_rate': 8.385598141695703e-06, 'epoch': 1.74}\n"
     ]
    },
    {
     "name": "stderr",
     "output_type": "stream",
     "text": [
      "                                                 \n",
      " 67%|██████▋   | 574/861 [05:53<02:22,  2.01it/s]"
     ]
    },
    {
     "name": "stdout",
     "output_type": "stream",
     "text": [
      "{'eval_loss': 0.14314639568328857, 'eval_accuracy': 0.9703315881326352, 'eval_clf_report': {'0': {'precision': 0.9719298245614035, 'recall': 0.9685314685314685, 'f1-score': 0.9702276707530648, 'support': 286.0}, '1': {'precision': 0.96875, 'recall': 0.9721254355400697, 'f1-score': 0.9704347826086956, 'support': 287.0}, 'accuracy': 0.9703315881326352, 'macro avg': {'precision': 0.9703399122807017, 'recall': 0.9703284520357691, 'f1-score': 0.9703312266808802, 'support': 573.0}, 'weighted avg': {'precision': 0.9703371375646795, 'recall': 0.9703315881326352, 'f1-score': 0.9703314074067577, 'support': 573.0}}, 'eval_runtime': 11.1964, 'eval_samples_per_second': 51.177, 'eval_steps_per_second': 6.431, 'epoch': 2.0}\n"
     ]
    },
    {
     "name": "stderr",
     "output_type": "stream",
     "text": [
      "                                                 \n",
      "100%|██████████| 861/861 [08:48<00:00,  2.04it/s]"
     ]
    },
    {
     "name": "stdout",
     "output_type": "stream",
     "text": [
      "{'eval_loss': 0.14759203791618347, 'eval_accuracy': 0.9703315881326352, 'eval_clf_report': {'0': {'precision': 0.9752650176678446, 'recall': 0.965034965034965, 'f1-score': 0.9701230228471002, 'support': 286.0}, '1': {'precision': 0.9655172413793104, 'recall': 0.975609756097561, 'f1-score': 0.9705372616984402, 'support': 287.0}, 'accuracy': 0.9703315881326352, 'macro avg': {'precision': 0.9703911295235774, 'recall': 0.970322360566263, 'f1-score': 0.9703301422727701, 'support': 573.0}, 'weighted avg': {'precision': 0.9703826236105857, 'recall': 0.9703315881326352, 'f1-score': 0.9703305037377365, 'support': 573.0}}, 'eval_runtime': 11.0167, 'eval_samples_per_second': 52.012, 'eval_steps_per_second': 6.536, 'epoch': 3.0}\n"
     ]
    },
    {
     "name": "stderr",
     "output_type": "stream",
     "text": [
      "100%|██████████| 861/861 [08:50<00:00,  1.62it/s]\n"
     ]
    },
    {
     "name": "stdout",
     "output_type": "stream",
     "text": [
      "{'train_runtime': 530.1289, 'train_samples_per_second': 12.97, 'train_steps_per_second': 1.624, 'train_loss': 0.142498333141225, 'epoch': 3.0}\n"
     ]
    },
    {
     "name": "stderr",
     "output_type": "stream",
     "text": [
      "100%|██████████| 90/90 [00:14<00:00,  6.37it/s]\n"
     ]
    }
   ],
   "source": [
    "import json\n",
    "\n",
    "trainer.train()\n",
    "\n",
    "eval_dict = trainer.evaluate(tokenized_ds[\"test\"])\n",
    "with open(\"reports/model_eval/faketrue_br.json\", \"w\") as f:\n",
    "    json.dump(eval_dict, f)"
   ]
  },
  {
   "cell_type": "markdown",
   "metadata": {},
   "source": []
  }
 ],
 "metadata": {
  "kernelspec": {
   "display_name": ".venv",
   "language": "python",
   "name": "python3"
  },
  "language_info": {
   "codemirror_mode": {
    "name": "ipython",
    "version": 3
   },
   "file_extension": ".py",
   "mimetype": "text/x-python",
   "name": "python",
   "nbconvert_exporter": "python",
   "pygments_lexer": "ipython3",
   "version": "3.10.12"
  }
 },
 "nbformat": 4,
 "nbformat_minor": 2
}

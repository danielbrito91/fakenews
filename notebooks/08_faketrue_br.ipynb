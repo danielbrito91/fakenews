{
 "cells": [
  {
   "cell_type": "code",
   "execution_count": 1,
   "metadata": {},
   "outputs": [
    {
     "name": "stdout",
     "output_type": "stream",
     "text": [
      "/Users/danieloliveiradebrito/Projetos/fakenews\n"
     ]
    },
    {
     "name": "stderr",
     "output_type": "stream",
     "text": [
      "/Users/danieloliveiradebrito/Projetos/fakenews/.venv/lib/python3.10/site-packages/IPython/core/magics/osm.py:417: UserWarning: This is now an optional IPython functionality, setting dhist requires you to install the `pickleshare` library.\n",
      "  self.shell.db['dhist'] = compress_dhist(dhist)[-100:]\n"
     ]
    }
   ],
   "source": [
    "%cd ..\n",
    "%load_ext autoreload\n",
    "%autoreload 2"
   ]
  },
  {
   "cell_type": "markdown",
   "metadata": {},
   "source": [
    "# Load dataset"
   ]
  },
  {
   "cell_type": "code",
   "execution_count": 66,
   "metadata": {},
   "outputs": [
    {
     "name": "stderr",
     "output_type": "stream",
     "text": [
      "/Users/danieloliveiradebrito/Projetos/fakenews/.venv/lib/python3.10/site-packages/tqdm/auto.py:21: TqdmWarning: IProgress not found. Please update jupyter and ipywidgets. See https://ipywidgets.readthedocs.io/en/stable/user_install.html\n",
      "  from .autonotebook import tqdm as notebook_tqdm\n"
     ]
    }
   ],
   "source": [
    "from fakenews.read_data import read_fake_true_br\n",
    "from sklearn.model_selection import train_test_split\n",
    "import datasets\n",
    "import polars as pl\n",
    "\n",
    "df = read_fake_true_br()\n",
    "\n",
    "train_full, test = train_test_split(df.to_pandas(),\n",
    "                              test_size=0.2,\n",
    "                              random_state=42,\n",
    "                              shuffle=True,\n",
    "                              stratify=df[\"label\"]\n",
    "                            )\n",
    "\n",
    "train, val = train_test_split(train_full,\n",
    "                              test_size=0.2,\n",
    "                              random_state=42,\n",
    "                              shuffle=True,\n",
    "                              stratify=train_full[\"label\"]\n",
    "                            )\n",
    "\n",
    "ds = datasets.DatasetDict()\n",
    "ds[\"train\"] = datasets.Dataset.from_pandas(train.reset_index(drop=True))\n",
    "ds[\"test\"] = datasets.Dataset.from_pandas(test.reset_index(drop=True))\n",
    "ds[\"validation\"] = datasets.Dataset.from_pandas(val.reset_index(drop=True))\n"
   ]
  },
  {
   "cell_type": "markdown",
   "metadata": {},
   "source": [
    "# BERT"
   ]
  },
  {
   "cell_type": "code",
   "execution_count": 67,
   "metadata": {},
   "outputs": [
    {
     "name": "stderr",
     "output_type": "stream",
     "text": [
      "Some weights of BertForSequenceClassification were not initialized from the model checkpoint at adalbertojunior/distilbert-portuguese-cased and are newly initialized: ['classifier.bias', 'classifier.weight']\n",
      "You should probably TRAIN this model on a down-stream task to be able to use it for predictions and inference.\n"
     ]
    }
   ],
   "source": [
    "from transformers import AutoTokenizer, AutoModelForSequenceClassification\n",
    "\n",
    "model = AutoModelForSequenceClassification.from_pretrained(\"adalbertojunior/distilbert-portuguese-cased\")\n",
    "tokenizer = AutoTokenizer.from_pretrained(\"adalbertojunior/distilbert-portuguese-cased\", do_lower_case=True)"
   ]
  },
  {
   "cell_type": "code",
   "execution_count": 68,
   "metadata": {},
   "outputs": [
    {
     "name": "stderr",
     "output_type": "stream",
     "text": [
      "/Users/danieloliveiradebrito/Projetos/fakenews/.venv/lib/python3.10/site-packages/bitsandbytes/cextension.py:34: UserWarning: The installed version of bitsandbytes was compiled without GPU support. 8-bit optimizers, 8-bit multiplication, and GPU quantization are unavailable.\n",
      "  warn(\"The installed version of bitsandbytes was compiled without GPU support. \"\n"
     ]
    },
    {
     "name": "stdout",
     "output_type": "stream",
     "text": [
      "'NoneType' object has no attribute 'cadam32bit_grad_fp32'\n"
     ]
    },
    {
     "name": "stderr",
     "output_type": "stream",
     "text": [
      "Some weights of BertForSequenceClassification were not initialized from the model checkpoint at adalbertojunior/distilbert-portuguese-cased and are newly initialized: ['classifier.bias', 'classifier.weight']\n",
      "You should probably TRAIN this model on a down-stream task to be able to use it for predictions and inference.\n",
      "Map: 100%|██████████| 2292/2292 [00:01<00:00, 1474.29 examples/s]\n",
      "Map: 100%|██████████| 717/717 [00:00<00:00, 1537.34 examples/s]\n",
      "Map: 100%|██████████| 573/573 [00:00<00:00, 1548.50 examples/s]\n"
     ]
    }
   ],
   "source": [
    "from fakenews.train import FakeNewsTrainer\n",
    "\n",
    "faketrue_trainer = FakeNewsTrainer(ds)\n",
    "tokenized_ds = faketrue_trainer.tokenize_ds()\n",
    "trainer = faketrue_trainer.get_trainer(tokenized_ds)"
   ]
  },
  {
   "cell_type": "code",
   "execution_count": null,
   "metadata": {},
   "outputs": [],
   "source": [
    "import json\n",
    "\n",
    "trainer.train()\n",
    "\n",
    "eval_dict = trainer.evaluate(tokenized_ds[\"test\"])\n",
    "with open(\"reports/model_eval/faketrue_br.json\", \"w\") as f:\n",
    "    json.dump(eval_dict, f)"
   ]
  },
  {
   "cell_type": "markdown",
   "metadata": {},
   "source": []
  }
 ],
 "metadata": {
  "kernelspec": {
   "display_name": ".venv",
   "language": "python",
   "name": "python3"
  },
  "language_info": {
   "codemirror_mode": {
    "name": "ipython",
    "version": 3
   },
   "file_extension": ".py",
   "mimetype": "text/x-python",
   "name": "python",
   "nbconvert_exporter": "python",
   "pygments_lexer": "ipython3",
   "version": "3.10.12"
  }
 },
 "nbformat": 4,
 "nbformat_minor": 2
}

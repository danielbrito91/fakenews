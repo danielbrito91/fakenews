{
 "cells": [
  {
   "cell_type": "code",
   "execution_count": 2,
   "metadata": {},
   "outputs": [
    {
     "name": "stdout",
     "output_type": "stream",
     "text": [
      "/Users/danieloliveiradebrito/Projetos/fakenews\n"
     ]
    },
    {
     "name": "stderr",
     "output_type": "stream",
     "text": [
      "/Users/danieloliveiradebrito/Projetos/fakenews/.venv/lib/python3.10/site-packages/IPython/core/magics/osm.py:417: UserWarning: This is now an optional IPython functionality, setting dhist requires you to install the `pickleshare` library.\n",
      "  self.shell.db['dhist'] = compress_dhist(dhist)[-100:]\n"
     ]
    }
   ],
   "source": [
    "%cd ..\n",
    "%load_ext autoreload\n",
    "%autoreload 2"
   ]
  },
  {
   "cell_type": "markdown",
   "metadata": {},
   "source": [
    "# Factck. br: a new dataset to study fake news\n",
    "\n",
    "apenas Fakes"
   ]
  },
  {
   "cell_type": "code",
   "execution_count": 3,
   "metadata": {},
   "outputs": [],
   "source": [
    "data_url = \"https://raw.githubusercontent.com/jghm-f/FACTCK.BR/master/FACTCKBR.tsv\""
   ]
  },
  {
   "cell_type": "code",
   "execution_count": 8,
   "metadata": {},
   "outputs": [],
   "source": [
    "import polars as pl\n",
    "\n",
    "df = pl.read_csv(data_url, separator='\\t')"
   ]
  },
  {
   "cell_type": "code",
   "execution_count": 23,
   "metadata": {},
   "outputs": [
    {
     "name": "stdout",
     "output_type": "stream",
     "text": [
      "['URL', 'Author', 'datePublished', 'claimReviewed', 'reviewBody', 'title', 'ratingValue', 'bestRating', 'alternativeName']\n"
     ]
    },
    {
     "name": "stderr",
     "output_type": "stream",
     "text": [
      "/var/folders/sh/kl0p__nj01dd11mtnll0179r0000gn/T/ipykernel_18375/1566193820.py:7: DeprecationWarning: `count` is deprecated. It has been renamed to `len`.\n",
      "  df.group_by(\"alternativeName\").count()\n"
     ]
    },
    {
     "data": {
      "text/html": [
       "<div><style>\n",
       ".dataframe > thead > tr,\n",
       ".dataframe > tbody > tr {\n",
       "  text-align: right;\n",
       "  white-space: pre-wrap;\n",
       "}\n",
       "</style>\n",
       "<small>shape: (19, 2)</small><table border=\"1\" class=\"dataframe\"><thead><tr><th>alternativeName</th><th>count</th></tr><tr><td>str</td><td>u32</td></tr></thead><tbody><tr><td>&quot;Discutível&quot;</td><td>12</td></tr><tr><td>&quot;distorcido&quot;</td><td>29</td></tr><tr><td>&quot;impreciso&quot;</td><td>2</td></tr><tr><td>&quot;outros&quot;</td><td>1</td></tr><tr><td>&quot;Impossível pro…</td><td>20</td></tr><tr><td>&hellip;</td><td>&hellip;</td></tr><tr><td>&quot;verdadeiro&quot;</td><td>1</td></tr><tr><td>&quot;Sem contexto&quot;</td><td>42</td></tr><tr><td>&quot;De olho&quot;</td><td>3</td></tr><tr><td>&quot;Exagerado&quot;</td><td>87</td></tr><tr><td>&quot;Verdadeiro, ma…</td><td>4</td></tr></tbody></table></div>"
      ],
      "text/plain": [
       "shape: (19, 2)\n",
       "┌───────────────────┬───────┐\n",
       "│ alternativeName   ┆ count │\n",
       "│ ---               ┆ ---   │\n",
       "│ str               ┆ u32   │\n",
       "╞═══════════════════╪═══════╡\n",
       "│ Discutível        ┆ 12    │\n",
       "│ distorcido        ┆ 29    │\n",
       "│ impreciso         ┆ 2     │\n",
       "│ outros            ┆ 1     │\n",
       "│ Impossível provar ┆ 20    │\n",
       "│ …                 ┆ …     │\n",
       "│ verdadeiro        ┆ 1     │\n",
       "│ Sem contexto      ┆ 42    │\n",
       "│ De olho           ┆ 3     │\n",
       "│ Exagerado         ┆ 87    │\n",
       "│ Verdadeiro, mas   ┆ 4     │\n",
       "└───────────────────┴───────┘"
      ]
     },
     "execution_count": 23,
     "metadata": {},
     "output_type": "execute_result"
    }
   ],
   "source": [
    "df = df.with_columns(\n",
    "    pl.when(pl.col(\"reviewBody\")==\"Empty\").then(pl.lit(None)\n",
    "    ).otherwise(pl.col(\"reviewBody\")\n",
    "                ).alias(\"reviewBody\"))\n",
    "\n",
    "print(df.columns)\n",
    "df.group_by(\"alternativeName\").count()"
   ]
  }
 ],
 "metadata": {
  "kernelspec": {
   "display_name": ".venv",
   "language": "python",
   "name": "python3"
  },
  "language_info": {
   "codemirror_mode": {
    "name": "ipython",
    "version": 3
   },
   "file_extension": ".py",
   "mimetype": "text/x-python",
   "name": "python",
   "nbconvert_exporter": "python",
   "pygments_lexer": "ipython3",
   "version": "3.10.12"
  }
 },
 "nbformat": 4,
 "nbformat_minor": 2
}

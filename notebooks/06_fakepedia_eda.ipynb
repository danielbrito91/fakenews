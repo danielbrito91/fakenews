{
 "cells": [
  {
   "cell_type": "code",
   "execution_count": 1,
   "metadata": {},
   "outputs": [
    {
     "name": "stdout",
     "output_type": "stream",
     "text": [
      "/Users/danieloliveiradebrito/Projetos/fakenews\n"
     ]
    },
    {
     "name": "stderr",
     "output_type": "stream",
     "text": [
      "/Users/danieloliveiradebrito/Projetos/fakenews/.venv/lib/python3.10/site-packages/IPython/core/magics/osm.py:417: UserWarning: This is now an optional IPython functionality, setting dhist requires you to install the `pickleshare` library.\n",
      "  self.shell.db['dhist'] = compress_dhist(dhist)[-100:]\n"
     ]
    }
   ],
   "source": [
    "%cd ..\n",
    "%load_ext autoreload\n",
    "%autoreload 2"
   ]
  },
  {
   "cell_type": "code",
   "execution_count": 8,
   "metadata": {},
   "outputs": [
    {
     "name": "stderr",
     "output_type": "stream",
     "text": [
      "/var/folders/sh/kl0p__nj01dd11mtnll0179r0000gn/T/ipykernel_531/2178389320.py:3: DeprecationWarning: `count` is deprecated. It has been renamed to `len`.\n",
      "  pl.scan_csv(\"data/fakepedia-corpus/complete_dataset.csv\", separator=\";\").group_by(\"type\").count().collect()\n"
     ]
    },
    {
     "data": {
      "text/html": [
       "<div><style>\n",
       ".dataframe > thead > tr,\n",
       ".dataframe > tbody > tr {\n",
       "  text-align: right;\n",
       "  white-space: pre-wrap;\n",
       "}\n",
       "</style>\n",
       "<small>shape: (1, 2)</small><table border=\"1\" class=\"dataframe\"><thead><tr><th>type</th><th>count</th></tr><tr><td>str</td><td>u32</td></tr></thead><tbody><tr><td>&quot;fake&quot;</td><td>6911</td></tr></tbody></table></div>"
      ],
      "text/plain": [
       "shape: (1, 2)\n",
       "┌──────┬───────┐\n",
       "│ type ┆ count │\n",
       "│ ---  ┆ ---   │\n",
       "│ str  ┆ u32   │\n",
       "╞══════╪═══════╡\n",
       "│ fake ┆ 6911  │\n",
       "└──────┴───────┘"
      ]
     },
     "execution_count": 8,
     "metadata": {},
     "output_type": "execute_result"
    }
   ],
   "source": [
    "import polars as pl\n",
    "\n",
    "pl.scan_csv(\"data/fakepedia-corpus/complete_dataset.csv\", separator=\";\").group_by(\"type\").count().collect()"
   ]
  },
  {
   "cell_type": "code",
   "execution_count": 13,
   "metadata": {},
   "outputs": [
    {
     "name": "stderr",
     "output_type": "stream",
     "text": [
      "/var/folders/sh/kl0p__nj01dd11mtnll0179r0000gn/T/ipykernel_531/1583435059.py:1: DeprecationWarning: `count` is deprecated. It has been renamed to `len`.\n",
      "  pl.read_csv(\"https://raw.githubusercontent.com/andersoncordeiro/Fakepedia-Corpus/main/dataset/fakepedia-corpus-v1.csv\", separator=\";\").group_by(\"type\").count()#.fetch(10)\n"
     ]
    },
    {
     "data": {
      "text/html": [
       "<div><style>\n",
       ".dataframe > thead > tr,\n",
       ".dataframe > tbody > tr {\n",
       "  text-align: right;\n",
       "  white-space: pre-wrap;\n",
       "}\n",
       "</style>\n",
       "<small>shape: (1, 2)</small><table border=\"1\" class=\"dataframe\"><thead><tr><th>type</th><th>count</th></tr><tr><td>str</td><td>u32</td></tr></thead><tbody><tr><td>&quot;fake&quot;</td><td>8517</td></tr></tbody></table></div>"
      ],
      "text/plain": [
       "shape: (1, 2)\n",
       "┌──────┬───────┐\n",
       "│ type ┆ count │\n",
       "│ ---  ┆ ---   │\n",
       "│ str  ┆ u32   │\n",
       "╞══════╪═══════╡\n",
       "│ fake ┆ 8517  │\n",
       "└──────┴───────┘"
      ]
     },
     "execution_count": 13,
     "metadata": {},
     "output_type": "execute_result"
    }
   ],
   "source": [
    "pl.read_csv(\"https://raw.githubusercontent.com/andersoncordeiro/Fakepedia-Corpus/main/dataset/fakepedia-corpus-v1.csv\", separator=\";\").group_by(\"type\").count()#.fetch(10)"
   ]
  },
  {
   "cell_type": "code",
   "execution_count": 15,
   "metadata": {},
   "outputs": [
    {
     "data": {
      "text/plain": [
       "['title',\n",
       " 'title_norm',\n",
       " 'message',\n",
       " 'message_norm',\n",
       " 'tokens',\n",
       " 'features',\n",
       " 'entities',\n",
       " 'type',\n",
       " 'source',\n",
       " 'url_review']"
      ]
     },
     "execution_count": 15,
     "metadata": {},
     "output_type": "execute_result"
    }
   ],
   "source": [
    "pl.read_csv(\"https://raw.githubusercontent.com/andersoncordeiro/Fakepedia-Corpus/main/dataset/fakepedia-corpus-v1.csv\", separator=\";\").columns"
   ]
  }
 ],
 "metadata": {
  "kernelspec": {
   "display_name": ".venv",
   "language": "python",
   "name": "python3"
  },
  "language_info": {
   "codemirror_mode": {
    "name": "ipython",
    "version": 3
   },
   "file_extension": ".py",
   "mimetype": "text/x-python",
   "name": "python",
   "nbconvert_exporter": "python",
   "pygments_lexer": "ipython3",
   "version": "3.10.12"
  }
 },
 "nbformat": 4,
 "nbformat_minor": 2
}

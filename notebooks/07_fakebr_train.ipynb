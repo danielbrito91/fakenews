{
 "cells": [
  {
   "cell_type": "code",
   "execution_count": 1,
   "metadata": {},
   "outputs": [
    {
     "name": "stdout",
     "output_type": "stream",
     "text": [
      "/Users/danieloliveiradebrito/Projetos/fakenews\n"
     ]
    },
    {
     "name": "stderr",
     "output_type": "stream",
     "text": [
      "/Users/danieloliveiradebrito/Projetos/fakenews/.venv/lib/python3.10/site-packages/IPython/core/magics/osm.py:417: UserWarning: This is now an optional IPython functionality, setting dhist requires you to install the `pickleshare` library.\n",
      "  self.shell.db['dhist'] = compress_dhist(dhist)[-100:]\n"
     ]
    }
   ],
   "source": [
    "%cd ..\n",
    "%load_ext autoreload\n",
    "%autoreload 2"
   ]
  },
  {
   "cell_type": "markdown",
   "metadata": {},
   "source": [
    "# Load dataset"
   ]
  },
  {
   "cell_type": "code",
   "execution_count": 9,
   "metadata": {},
   "outputs": [],
   "source": [
    "from fakenews.read_data import read_fakebr_corpus\n",
    "import datasets\n",
    "from sklearn.model_selection import train_test_split\n",
    "\n",
    "import polars as pl\n",
    "\n",
    "normalized_fake = read_fakebr_corpus(\"data/fakebr-corpus/size_normalized_texts/fake/*.txt\")\n",
    "normalized_true = read_fakebr_corpus(\"data/fakebr-corpus/size_normalized_texts/true/*.txt\")\n",
    "\n",
    "df = pl.concat([normalized_fake, normalized_true]).rename({\"texts\": \"text\"}).to_pandas()\n",
    "\n",
    "train_full, test = train_test_split(df,\n",
    "                              test_size=0.2,\n",
    "                              random_state=42,\n",
    "                              shuffle=True,\n",
    "                              stratify=df[\"label\"]\n",
    "                            )\n",
    "\n",
    "train, val = train_test_split(train_full,\n",
    "                              test_size=0.2,\n",
    "                              random_state=42,\n",
    "                              shuffle=True,\n",
    "                              stratify=train_full[\"label\"]\n",
    "                            )\n",
    "\n",
    "ds = datasets.DatasetDict()\n",
    "ds[\"train\"] = datasets.Dataset.from_pandas(train.reset_index(drop=True))\n",
    "ds[\"test\"] = datasets.Dataset.from_pandas(test.reset_index(drop=True))\n",
    "ds[\"validation\"] = datasets.Dataset.from_pandas(val.reset_index(drop=True))\n"
   ]
  },
  {
   "cell_type": "markdown",
   "metadata": {},
   "source": [
    "# BERT"
   ]
  },
  {
   "cell_type": "code",
   "execution_count": 5,
   "metadata": {},
   "outputs": [
    {
     "name": "stderr",
     "output_type": "stream",
     "text": [
      "Some weights of BertForSequenceClassification were not initialized from the model checkpoint at adalbertojunior/distilbert-portuguese-cased and are newly initialized: ['classifier.bias', 'classifier.weight']\n",
      "You should probably TRAIN this model on a down-stream task to be able to use it for predictions and inference.\n"
     ]
    }
   ],
   "source": [
    "from transformers import AutoTokenizer, AutoModelForSequenceClassification\n",
    "\n",
    "model = AutoModelForSequenceClassification.from_pretrained(\"adalbertojunior/distilbert-portuguese-cased\")\n",
    "tokenizer = AutoTokenizer.from_pretrained(\"adalbertojunior/distilbert-portuguese-cased\", do_lower_case=True)"
   ]
  },
  {
   "cell_type": "code",
   "execution_count": 10,
   "metadata": {},
   "outputs": [
    {
     "name": "stderr",
     "output_type": "stream",
     "text": [
      "Some weights of BertForSequenceClassification were not initialized from the model checkpoint at adalbertojunior/distilbert-portuguese-cased and are newly initialized: ['classifier.bias', 'classifier.weight']\n",
      "You should probably TRAIN this model on a down-stream task to be able to use it for predictions and inference.\n",
      "Map: 100%|██████████| 4608/4608 [00:03<00:00, 1235.84 examples/s]\n",
      "Map: 100%|██████████| 1440/1440 [00:01<00:00, 1272.39 examples/s]\n",
      "Map: 100%|██████████| 1152/1152 [00:00<00:00, 1322.38 examples/s]\n"
     ]
    }
   ],
   "source": [
    "from fakenews.train import FakeNewsTrainer\n",
    "\n",
    "fakebr_trainer = FakeNewsTrainer(ds)\n",
    "tokenized_ds = fakebr_trainer.tokenize_ds()\n",
    "trainer = fakebr_trainer.get_trainer(tokenized_ds)"
   ]
  },
  {
   "cell_type": "code",
   "execution_count": 11,
   "metadata": {},
   "outputs": [
    {
     "name": "stderr",
     "output_type": "stream",
     "text": [
      " 29%|██▉       | 500/1728 [05:05<13:05,  1.56it/s]"
     ]
    },
    {
     "name": "stdout",
     "output_type": "stream",
     "text": [
      "{'loss': 0.283, 'grad_norm': 24.987199783325195, 'learning_rate': 1.4212962962962964e-05, 'epoch': 0.87}\n"
     ]
    },
    {
     "name": "stderr",
     "output_type": "stream",
     "text": [
      "                                                  \n",
      " 33%|███▎      | 576/1728 [06:18<11:57,  1.61it/s]"
     ]
    },
    {
     "name": "stdout",
     "output_type": "stream",
     "text": [
      "{'eval_loss': 0.15938979387283325, 'eval_accuracy': 0.9565972222222222, 'eval_clf_report': {'0': {'precision': 0.9383333333333334, 'recall': 0.9774305555555556, 'f1-score': 0.9574829931972789, 'support': 576.0}, '1': {'precision': 0.9764492753623188, 'recall': 0.9357638888888888, 'f1-score': 0.9556737588652482, 'support': 576.0}, 'accuracy': 0.9565972222222222, 'macro avg': {'precision': 0.9573913043478262, 'recall': 0.9565972222222222, 'f1-score': 0.9565783760312636, 'support': 1152.0}, 'weighted avg': {'precision': 0.9573913043478259, 'recall': 0.9565972222222222, 'f1-score': 0.9565783760312636, 'support': 1152.0}}, 'eval_runtime': 24.7521, 'eval_samples_per_second': 46.541, 'eval_steps_per_second': 5.818, 'epoch': 1.0}\n"
     ]
    },
    {
     "name": "stderr",
     "output_type": "stream",
     "text": [
      " 58%|█████▊    | 1000/1728 [10:43<07:15,  1.67it/s] "
     ]
    },
    {
     "name": "stdout",
     "output_type": "stream",
     "text": [
      "{'loss': 0.1347, 'grad_norm': 0.0557464174926281, 'learning_rate': 8.425925925925926e-06, 'epoch': 1.74}\n"
     ]
    },
    {
     "name": "stderr",
     "output_type": "stream",
     "text": [
      "                                                   \n",
      " 67%|██████▋   | 1152/1728 [12:43<05:44,  1.67it/s]"
     ]
    },
    {
     "name": "stdout",
     "output_type": "stream",
     "text": [
      "{'eval_loss': 0.15505626797676086, 'eval_accuracy': 0.9635416666666666, 'eval_clf_report': {'0': {'precision': 0.9717314487632509, 'recall': 0.9548611111111112, 'f1-score': 0.9632224168126094, 'support': 576.0}, '1': {'precision': 0.9556313993174061, 'recall': 0.9722222222222222, 'f1-score': 0.963855421686747, 'support': 576.0}, 'accuracy': 0.9635416666666666, 'macro avg': {'precision': 0.9636814240403285, 'recall': 0.9635416666666667, 'f1-score': 0.9635389192496782, 'support': 1152.0}, 'weighted avg': {'precision': 0.9636814240403285, 'recall': 0.9635416666666666, 'f1-score': 0.9635389192496783, 'support': 1152.0}}, 'eval_runtime': 24.3482, 'eval_samples_per_second': 47.314, 'eval_steps_per_second': 5.914, 'epoch': 2.0}\n"
     ]
    },
    {
     "name": "stderr",
     "output_type": "stream",
     "text": [
      " 87%|████████▋ | 1500/1728 [16:19<02:15,  1.69it/s]  "
     ]
    },
    {
     "name": "stdout",
     "output_type": "stream",
     "text": [
      "{'loss': 0.0739, 'grad_norm': 0.05099225789308548, 'learning_rate': 2.6388888888888893e-06, 'epoch': 2.6}\n"
     ]
    },
    {
     "name": "stderr",
     "output_type": "stream",
     "text": [
      "                                                   \n",
      "100%|██████████| 1728/1728 [19:02<00:00,  1.61it/s]"
     ]
    },
    {
     "name": "stdout",
     "output_type": "stream",
     "text": [
      "{'eval_loss': 0.1877591460943222, 'eval_accuracy': 0.9652777777777778, 'eval_clf_report': {'0': {'precision': 0.9542372881355933, 'recall': 0.9774305555555556, 'f1-score': 0.9656946826758147, 'support': 576.0}, '1': {'precision': 0.9768683274021353, 'recall': 0.953125, 'f1-score': 0.9648506151142355, 'support': 576.0}, 'accuracy': 0.9652777777777778, 'macro avg': {'precision': 0.9655528077688642, 'recall': 0.9652777777777778, 'f1-score': 0.9652726488950252, 'support': 1152.0}, 'weighted avg': {'precision': 0.9655528077688642, 'recall': 0.9652777777777778, 'f1-score': 0.9652726488950252, 'support': 1152.0}}, 'eval_runtime': 24.9699, 'eval_samples_per_second': 46.136, 'eval_steps_per_second': 5.767, 'epoch': 3.0}\n"
     ]
    },
    {
     "name": "stderr",
     "output_type": "stream",
     "text": [
      "100%|██████████| 1728/1728 [19:04<00:00,  1.51it/s]"
     ]
    },
    {
     "name": "stdout",
     "output_type": "stream",
     "text": [
      "{'train_runtime': 1144.9333, 'train_samples_per_second': 12.074, 'train_steps_per_second': 1.509, 'train_loss': 0.152462148004108, 'epoch': 3.0}\n"
     ]
    },
    {
     "name": "stderr",
     "output_type": "stream",
     "text": [
      "\n"
     ]
    },
    {
     "data": {
      "text/plain": [
       "TrainOutput(global_step=1728, training_loss=0.152462148004108, metrics={'train_runtime': 1144.9333, 'train_samples_per_second': 12.074, 'train_steps_per_second': 1.509, 'total_flos': 1831229319020544.0, 'train_loss': 0.152462148004108, 'epoch': 3.0})"
      ]
     },
     "execution_count": 11,
     "metadata": {},
     "output_type": "execute_result"
    }
   ],
   "source": [
    "trainer.train()"
   ]
  },
  {
   "cell_type": "code",
   "execution_count": 12,
   "metadata": {},
   "outputs": [
    {
     "name": "stderr",
     "output_type": "stream",
     "text": [
      "100%|██████████| 180/180 [00:32<00:00,  5.51it/s]\n"
     ]
    }
   ],
   "source": [
    "import json\n",
    "\n",
    "eval_dict = trainer.evaluate(tokenized_ds[\"test\"])\n",
    "with open(\"reports/model_eval/fakebr_eval.json\", \"w\") as f:\n",
    "    json.dump(eval_dict, f)"
   ]
  }
 ],
 "metadata": {
  "kernelspec": {
   "display_name": ".venv",
   "language": "python",
   "name": "python3"
  },
  "language_info": {
   "codemirror_mode": {
    "name": "ipython",
    "version": 3
   },
   "file_extension": ".py",
   "mimetype": "text/x-python",
   "name": "python",
   "nbconvert_exporter": "python",
   "pygments_lexer": "ipython3",
   "version": "3.10.12"
  }
 },
 "nbformat": 4,
 "nbformat_minor": 2
}
